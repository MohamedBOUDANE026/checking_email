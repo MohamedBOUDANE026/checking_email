{
 "cells": [
  {
   "cell_type": "code",
   "execution_count": null,
   "metadata": {},
   "outputs": [],
   "source": [
    "import smtplib\n",
    "from email_validator import validate_email, EmailNotValidError  # type: ignore\n",
    "import dns.resolver  # type: ignore\n",
    "import sqlite3\n",
    "import pandas as pd  # type: ignore\n",
    "from openpyxl import load_workbook  # type: ignore"
   ]
  },
  {
   "cell_type": "code",
   "execution_count": null,
   "metadata": {},
   "outputs": [],
   "source": [
    "# Fonction pour créer la base de données et insérer des données aléatoires\n",
    "def create_database():\n",
    "    with sqlite3.connect('email_validation.db') as conn:\n",
    "        c = conn.cursor()\n",
    "        # Créer la table\n",
    "        c.execute('''CREATE TABLE IF NOT EXISTS email_validation\n",
    "                    (email TEXT, syntax_result TEXT, mx_result TEXT, deliverability_result TEXT)''')\n",
    "\n",
    "        print('Database created successfully')"
   ]
  },
  {
   "cell_type": "code",
   "execution_count": null,
   "metadata": {},
   "outputs": [],
   "source": [
    "# Étape 1 : Valider la syntaxe de l'email\n",
    "\n",
    "def validate_email_syntax(email):\n",
    "    try:\n",
    "        valid = validate_email(email)\n",
    "        return valid.email\n",
    "    except EmailNotValidError as e:\n",
    "        return f\"Invalid email syntax: {e}\"\n",
    "\n",
    "\n",
    "print('validate_email:')"
   ]
  },
  {
   "cell_type": "code",
   "execution_count": null,
   "metadata": {},
   "outputs": [],
   "source": [
    "# Étape 2 : Vérifier les enregistrements MX du domaine de l'email\n",
    "\n",
    "def check_mx_record(domain):\n",
    "    try:\n",
    "        records = dns.resolver.resolve(domain, 'MX')\n",
    "        mx_record = records[0].exchange\n",
    "        return f\"MX record found: {mx_record}\"\n",
    "    except (dns.resolver.NoAnswer, dns.resolver.NXDOMAIN, dns.resolver.Timeout) as e:\n",
    "        return f\"No MX record found for domain {domain}: {e}\"\n",
    "    except Exception as e:\n",
    "        return f\"An error occurred while checking MX record for domain {domain}: {e}\"\n",
    "\n",
    "\n",
    "print('check mx record verified')"
   ]
  },
  {
   "cell_type": "code",
   "execution_count": null,
   "metadata": {},
   "outputs": [],
   "source": [
    "# Étape 3 : Vérifier la délivrabilité de l'email\n",
    "\n",
    "def verify_email_deliverability(email):\n",
    "    domain = email.split('@')[1]\n",
    "    try:\n",
    "        records = dns.resolver.resolve(domain, 'MX')\n",
    "        mx_record = records[0].exchange.to_text()\n",
    "\n",
    "        with smtplib.SMTP(mx_record, 25, timeout=30) as server:\n",
    "            server.set_debuglevel(1)\n",
    "            server.ehlo()\n",
    "            server.starttls()\n",
    "            server.ehlo()\n",
    "            server.mail('test@example.com')\n",
    "            code, message = server.rcpt(email)\n",
    "\n",
    "            if code == 250:\n",
    "                return f\"Email {email} is deliverable.\"\n",
    "            else:\n",
    "                return f\"Email {email} is not deliverable: {message}\"\n",
    "    except smtplib.SMTPConnectError as e:\n",
    "        return f\"SMTP connect error: {e}\"\n",
    "    except smtplib.SMTPServerDisconnected as e:\n",
    "        return f\"SMTP server disconnected: {e}\"\n",
    "    except smtplib.SMTPException as e:\n",
    "        return f\"SMTP error checking deliverability for {email}: {e}\"\n",
    "    except Exception as e:\n",
    "        return f\"Error checking deliverability for {email}: {e}\"\n",
    "\n",
    "\n",
    "print('la délivrabilité d email verfied')"
   ]
  },
  {
   "cell_type": "code",
   "execution_count": null,
   "metadata": {},
   "outputs": [],
   "source": [
    "# Fonction pour enregistrer les résultats dans un fichier Excel\n",
    "\n",
    "def store_results_in_csv(deliverable_results, non_deliverable_results):\n",
    "    deliverable_df = pd.DataFrame(deliverable_results, columns=[\n",
    "                                  'email', 'syntax_result', 'mx_result', 'deliverability_result'])\n",
    "    non_deliverable_df = pd.DataFrame(non_deliverable_results, columns=[\n",
    "                                      'email', 'syntax_result', 'mx_result', 'deliverability_result'])\n",
    "\n",
    "    with pd.ExcelWriter('email_validation_results.xlsx', engine='openpyxl') as writer:\n",
    "        deliverable_df.to_excel(writer, sheet_name='deliverable', index=False)\n",
    "        non_deliverable_df.to_excel(\n",
    "            writer, sheet_name=\"Non deliverable\", index=False)\n",
    "\n",
    "    # Charger le fichier Excel pour ajuster la largeur des colonnes\n",
    "    wb = load_workbook('email_validation_results.xlsx')\n",
    "\n",
    "    for sheet_name in wb.sheetnames:\n",
    "        sheet = wb[sheet_name]\n",
    "        for column_cells in sheet.columns:\n",
    "            length = max(len(str(cell.value)) for cell in column_cells)\n",
    "            sheet.column_dimensions[column_cells[0].column_letter].width = length + 2\n",
    "\n",
    "    wb.save('email_validation_results.xlsx')\n",
    "\n",
    "\n",
    "print('store results in csv verified')"
   ]
  },
  {
   "cell_type": "code",
   "execution_count": null,
   "metadata": {},
   "outputs": [],
   "source": [
    "# Fonction principale pour valider un email et stocker les résultats\n",
    "def validate_email_address(email, deliverable_results, non_deliverable_results):\n",
    "    syntax_result = validate_email_syntax(email)\n",
    "    print(f\"Syntax validation result: {syntax_result}\")\n",
    "\n",
    "    if \"Invalid email syntax\" in syntax_result:\n",
    "        mx_result = None\n",
    "        deliverability_result = None\n",
    "        non_deliverable_results.append(\n",
    "            [email, syntax_result, mx_result, deliverability_result])\n",
    "    else:\n",
    "        domain = email.split('@')[1]\n",
    "        mx_result = check_mx_record(domain)\n",
    "        print(f\"MX record check result: {mx_result}\")\n",
    "\n",
    "        if \"No MX record found\" in mx_result:\n",
    "            deliverability_result = None\n",
    "            non_deliverable_results.append(\n",
    "                [email, syntax_result, mx_result, deliverability_result])\n",
    "        else:\n",
    "            deliverability_result = verify_email_deliverability(email)\n",
    "            print(f\"Deliverability check result: {deliverability_result}\")\n",
    "            if \"is deliverable\" in deliverability_result:\n",
    "                deliverable_results.append(\n",
    "                    [email, syntax_result, mx_result, deliverability_result])\n",
    "            else:\n",
    "                non_deliverable_results.append(\n",
    "                    [email, syntax_result, mx_result, deliverability_result])"
   ]
  },
  {
   "cell_type": "code",
   "execution_count": null,
   "metadata": {},
   "outputs": [],
   "source": [
    "# Créer la base de données avec des données aléatoires\n",
    "create_database()\n",
    "\n",
    "# Tester les fonctions avec les emails de la base de données\n",
    "if __name__ == \"__main__\":\n",
    "    deliverable_results = []\n",
    "    non_deliverable_results = []\n",
    "\n",
    "    with sqlite3.connect('email_validation.db') as conn:\n",
    "        c = conn.cursor()\n",
    "        c.execute(\"SELECT email FROM email_validation\")\n",
    "        emails = c.fetchall()\n",
    "\n",
    "        for email in emails:\n",
    "            validate_email_address(\n",
    "                email[0], deliverable_results, non_deliverable_results)\n",
    "\n",
    "    # Stocker les résultats dans un fichier Excel\n",
    "    store_results_in_csv(deliverable_results, non_deliverable_results)"
   ]
  },
  {
   "cell_type": "markdown",
   "metadata": {},
   "source": [
    "créer un utilisateur"
   ]
  },
  {
   "cell_type": "code",
   "execution_count": null,
   "metadata": {},
   "outputs": [],
   "source": [
    "import win32com.client\n",
    "\n",
    "def create_email_account(domain, username, password):\n",
    "    hMailServer = win32com.client.Dispatch(\"hMailServer.Application\")\n",
    "    hMailServer.Authenticate(\"Administrator\", \"admin_password\")\n",
    "\n",
    "    domain_obj = hMailServer.Domains.ItemByName(domain)\n",
    "    account = domain_obj.Accounts.Add()\n",
    "    account.Address = f\"{username}@{domain}\"\n",
    "    account.Password = password\n",
    "    account.Active = True\n",
    "    account.Save()\n",
    "\n",
    "create_email_account('experio.ma', 'testuser', 'securepassword')\n"
   ]
  },
  {
   "cell_type": "markdown",
   "metadata": {},
   "source": [
    "Pour API, on va utiliser FastAPI en Python. FastAPI est moderne et rapide, ce qui le rend idéal pour ce type de tâche."
   ]
  },
  {
   "cell_type": "code",
   "execution_count": null,
   "metadata": {},
   "outputs": [],
   "source": [
    "from fastapi import FastAPI, HTTPException # type: ignore\n",
    "import win32com.client\n",
    "\n",
    "app = FastAPI()\n",
    "\n",
    "def create_email_account(domain, username, password):\n",
    "    hMailServer = win32com.client.Dispatch(\"hMailServer.Application\")\n",
    "    hMailServer.Authenticate(\"Administrator\", \"admin_password\")\n",
    "\n",
    "    domain_obj = hMailServer.Domains.ItemByName(domain)\n",
    "    account = domain_obj.Accounts.Add()\n",
    "    account.Address = f\"{username}@{domain}\"\n",
    "    account.Password = password\n",
    "    account.Active = True\n",
    "    account.Save()\n",
    "\n",
    "@app.post(\"/create-email/\")\n",
    "def create_email(domain: str, username: str, password: str):\n",
    "    try:\n",
    "        create_email_account(domain, username, password)\n",
    "        return {\"message\": \"Email account created successfully\"}\n",
    "    except Exception as e:\n",
    "        raise HTTPException(status_code=400, detail=str(e))\n",
    "\n",
    "if __name__ == \"__main__\":\n",
    "    import uvicorn # type: ignore\n",
    "    uvicorn.run(app, host=\"0.0.0.0\", port=8000)\n"
   ]
  },
  {
   "cell_type": "markdown",
   "metadata": {},
   "source": [
    "Communication avec Experio"
   ]
  },
  {
   "cell_type": "code",
   "execution_count": null,
   "metadata": {},
   "outputs": [],
   "source": [
    "import requests # type: ignore\n",
    "\n",
    "def interact_with_experio(data):\n",
    "    url = \"https://api.experio.com/endpoint\"\n",
    "    headers = {\n",
    "        \"Authorization\": \"Bearer your_token\",\n",
    "        \"Content-Type\": \"application/json\"\n",
    "    }\n",
    "    response = requests.post(url, json=data, headers=headers)\n",
    "    return response.json()\n",
    "\n",
    "@app.post(\"/send-to-experio/\")\n",
    "def send_to_experio(email: str):\n",
    "    data = {\"email\": email}\n",
    "    response = interact_with_experio(data)\n",
    "    return response\n"
   ]
  }
 ],
 "metadata": {
  "kernelspec": {
   "display_name": "venv",
   "language": "python",
   "name": "python3"
  },
  "language_info": {
   "codemirror_mode": {
    "name": "ipython",
    "version": 3
   },
   "file_extension": ".py",
   "mimetype": "text/x-python",
   "name": "python",
   "nbconvert_exporter": "python",
   "pygments_lexer": "ipython3",
   "version": "3.12.4"
  }
 },
 "nbformat": 4,
 "nbformat_minor": 2
}
